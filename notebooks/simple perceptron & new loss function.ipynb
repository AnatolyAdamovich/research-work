{
 "cells": [
  {
   "cell_type": "markdown",
   "source": [
    "# Target\n",
    "Сравнение стандартных оптимизаторов (доступных в PyTorch) при обучении однослойного перцептрона с новой функцией потерь, использующей присоединенную матрицу"
   ],
   "metadata": {
    "collapsed": false
   }
  },
  {
   "cell_type": "markdown",
   "source": [
    "## libraries"
   ],
   "metadata": {
    "collapsed": false
   }
  },
  {
   "cell_type": "code",
   "execution_count": 1,
   "metadata": {
    "collapsed": true
   },
   "outputs": [],
   "source": [
    "import numpy as np\n",
    "import torch\n",
    "from torch import optim\n",
    "from torch import nn\n",
    "from torch.utils.data import DataLoader\n",
    "from torchmetrics import R2Score\n",
    "\n",
    "from data_help_functions import make_regression_data, RegressionDataset\n",
    "from train_test_help_functions import training_model\n",
    "\n",
    "torch.random.manual_seed(42)\n",
    "device = \"cuda\" if torch.cuda.is_available() else \"cpu\""
   ]
  },
  {
   "cell_type": "markdown",
   "source": [
    "## Data"
   ],
   "metadata": {
    "collapsed": false
   }
  },
  {
   "cell_type": "code",
   "execution_count": 2,
   "outputs": [
    {
     "name": "stdout",
     "output_type": "stream",
     "text": [
      "shape of train: (torch.Size([80, 10]), torch.Size([80, 1]))\n",
      "shape of test: (torch.Size([20, 10]), torch.Size([20, 1]))\n"
     ]
    }
   ],
   "source": [
    "X_train, X_test, y_train, y_test = make_regression_data(number_samples=100,\n",
    "                                                        number_features=10,\n",
    "                                                        noise_value=2.5,\n",
    "                                                        )\n",
    "print(f'shape of train: {X_train.shape, y_train.shape}\\nshape of test: {X_test.shape, y_test.shape}')"
   ],
   "metadata": {
    "collapsed": false
   }
  },
  {
   "cell_type": "code",
   "execution_count": 3,
   "outputs": [
    {
     "name": "stdout",
     "output_type": "stream",
     "text": [
      "example of train sample:\n",
      " (tensor([-0.5173, -0.5229,  1.5796,  2.2989,  1.4534, -0.3628, -0.2818,  1.4093,\n",
      "        -0.4455, -0.4202]), tensor([186.3322]))\n"
     ]
    }
   ],
   "source": [
    "train_dataset = RegressionDataset(features=X_train,\n",
    "                                  labels=y_train)\n",
    "test_dataset = RegressionDataset(features=X_test,\n",
    "                                 labels=y_test)\n",
    "print(f'example of train sample:\\n {train_dataset[19]}')"
   ],
   "metadata": {
    "collapsed": false
   }
  },
  {
   "cell_type": "code",
   "execution_count": 4,
   "outputs": [
    {
     "name": "stdout",
     "output_type": "stream",
     "text": [
      "shape of batch: features - torch.Size([10, 10]) and labels - torch.Size([10, 1])\n"
     ]
    }
   ],
   "source": [
    "BATCH_SIZE=10\n",
    "\n",
    "train_dataloader = DataLoader(dataset=train_dataset,\n",
    "                              shuffle=True,\n",
    "                              batch_size=BATCH_SIZE)\n",
    "test_dataloader = DataLoader(dataset=test_dataset,\n",
    "                             batch_size=BATCH_SIZE)\n",
    "batch_example_features, batch_example_labels  = next(iter(train_dataloader))\n",
    "print('shape of batch: features - {} and labels - {}'.format(batch_example_features.shape, batch_example_labels.shape))"
   ],
   "metadata": {
    "collapsed": false
   }
  },
  {
   "cell_type": "markdown",
   "source": [
    "## Optimizers & loss function & metric"
   ],
   "metadata": {
    "collapsed": false
   }
  },
  {
   "cell_type": "code",
   "execution_count": 5,
   "outputs": [],
   "source": [
    "loss_fn = nn.MSELoss()\n",
    "\n",
    "metric_fn = R2Score()\n",
    "\n",
    "optimizers = [optim.Adam, optim.SGD, optim.RMSprop, optim.AdamW, optim.Adamax]\n",
    "learning_rates = [1, 1e-5, 0.1, 10, 1]"
   ],
   "metadata": {
    "collapsed": false
   }
  },
  {
   "cell_type": "markdown",
   "source": [
    "## Train simple perceptron with classic MSE loss function"
   ],
   "metadata": {
    "collapsed": false
   }
  },
  {
   "cell_type": "code",
   "execution_count": 6,
   "outputs": [],
   "source": [
    "optimizers_comparison = dict()\n",
    "for optimizer, lr in zip(optimizers, learning_rates):\n",
    "    epochs, metric = training_model(model=nn.Linear(in_features=10, out_features=1, bias=False),\n",
    "                                    optimizer_fn=optimizer,\n",
    "                                    loss_fn=loss_fn,\n",
    "                                    metric_fn=metric_fn,\n",
    "                                    data_train=train_dataloader,\n",
    "                                    data_test=test_dataloader,\n",
    "                                    learning_rate=lr)\n",
    "    optimizers_comparison[optimizer.__name__] = (epochs, metric)"
   ],
   "metadata": {
    "collapsed": false
   }
  },
  {
   "cell_type": "code",
   "execution_count": 7,
   "outputs": [
    {
     "name": "stdout",
     "output_type": "stream",
     "text": [
      "Adam need 16 epochs for 0.981 score\n",
      "SGD need 10000 epochs for 0.943 score\n",
      "RMSprop need 96 epochs for 0.951 score\n",
      "AdamW need 16 epochs for 0.956 score\n",
      "Adamax need 36 epochs for 0.953 score\n"
     ]
    }
   ],
   "source": [
    "for optim_name in optimizers_comparison:\n",
    "    epochs, metric = optimizers_comparison[optim_name]\n",
    "    print(f'{optim_name} need {epochs} epochs for {metric:.3f} score')"
   ],
   "metadata": {
    "collapsed": false
   }
  },
  {
   "cell_type": "markdown",
   "source": [
    "## Train simple perceptron with non-classic MSE loss function\n",
    "![new loss](../new_loss.png)"
   ],
   "metadata": {
    "collapsed": false
   }
  },
  {
   "cell_type": "code",
   "execution_count": 8,
   "outputs": [],
   "source": [
    "optimizers_comparison = dict()\n",
    "for optimizer, lr in zip(optimizers, learning_rates):\n",
    "    epochs, metric = training_model(model=nn.Linear(in_features=10, out_features=1, bias=False),\n",
    "                                    optimizer_fn=optimizer,\n",
    "                                    loss_fn=loss_fn,\n",
    "                                    metric_fn=metric_fn,\n",
    "                                    data_train=train_dataloader,\n",
    "                                    data_test=test_dataloader,\n",
    "                                    learning_rate=lr,\n",
    "                                    with_addition=True)\n",
    "    optimizers_comparison[optimizer.__name__] = (epochs, metric)"
   ],
   "metadata": {
    "collapsed": false
   }
  },
  {
   "cell_type": "code",
   "execution_count": 9,
   "outputs": [
    {
     "name": "stdout",
     "output_type": "stream",
     "text": [
      "Adam need 86 epochs for 0.953 score\n",
      "SGD need 61 epochs for 0.999 score\n",
      "RMSprop need 316 epochs for 0.952 score\n",
      "AdamW need 66 epochs for 0.963 score\n",
      "Adamax need 721 epochs for 0.951 score\n"
     ]
    }
   ],
   "source": [
    "for optim_name in optimizers_comparison:\n",
    "    epochs, metric = optimizers_comparison[optim_name]\n",
    "    print(f'{optim_name} need {epochs} epochs for {metric:.3f} score')"
   ],
   "metadata": {
    "collapsed": false
   }
  },
  {
   "cell_type": "markdown",
   "source": [
    "## Train more complex model with Adam and new loss"
   ],
   "metadata": {
    "collapsed": false
   }
  },
  {
   "cell_type": "code",
   "execution_count": 10,
   "outputs": [
    {
     "name": "stdout",
     "output_type": "stream",
     "text": [
      "epoch 1: loss = 56815.758 and score = 0.051\n",
      "epoch 6: loss = 8752.783 and score = 0.868\n",
      "epoch 11: loss = 11989.217 and score = 0.797\n",
      "epoch 16: loss = 10615.666 and score = 0.829\n",
      "epoch 21: loss = 8917.953 and score = 0.865\n",
      "epoch 26: loss = 14021.646 and score = 0.781\n",
      "epoch 31: loss = 15407.912 and score = 0.761\n",
      "epoch 36: loss = 16055.662 and score = 0.748\n",
      "epoch 41: loss = 17260.533 and score = 0.725\n",
      "epoch 46: loss = 9363.602 and score = 0.852\n",
      "epoch 51: loss = 8644.997 and score = 0.860\n",
      "epoch 56: loss = 7208.608 and score = 0.885\n",
      "epoch 61: loss = 6653.069 and score = 0.894\n",
      "epoch 66: loss = 6675.034 and score = 0.895\n",
      "epoch 71: loss = 4564.716 and score = 0.927\n",
      "epoch 76: loss = 3512.664 and score = 0.945\n",
      "epoch 81: loss = 3461.405 and score = 0.944\n",
      "epoch 86: loss = 2310.698 and score = 0.963\n"
     ]
    },
    {
     "data": {
      "text/plain": "(86, tensor(0.9633))"
     },
     "execution_count": 10,
     "metadata": {},
     "output_type": "execute_result"
    }
   ],
   "source": [
    "simple_model = nn.Sequential(\n",
    "    nn.Linear(in_features=10, out_features=35),\n",
    "    nn.ELU(),\n",
    "    nn.Linear(in_features=35, out_features=1),\n",
    ")\n",
    "training_model(model=simple_model,\n",
    "               optimizer_fn=optim.Adam,\n",
    "               loss_fn=loss_fn,\n",
    "               metric_fn=metric_fn,\n",
    "               data_train=train_dataloader,\n",
    "               data_test=test_dataloader,\n",
    "               learning_rate=0.1,\n",
    "               printed=True, valid_period=5,\n",
    "               with_addition=True)"
   ],
   "metadata": {
    "collapsed": false
   }
  },
  {
   "cell_type": "markdown",
   "source": [
    "## import new optimizer"
   ],
   "metadata": {
    "collapsed": false
   }
  },
  {
   "cell_type": "code",
   "execution_count": 6,
   "outputs": [
    {
     "data": {
      "text/plain": "'DREMOptimizer'"
     },
     "execution_count": 6,
     "metadata": {},
     "output_type": "execute_result"
    }
   ],
   "source": [
    "from custom_optim_example import DREMOptimizer\n",
    "DREMOptimizer.__name__"
   ],
   "metadata": {
    "collapsed": false
   }
  },
  {
   "cell_type": "code",
   "execution_count": 7,
   "outputs": [
    {
     "name": "stdout",
     "output_type": "stream",
     "text": [
      "epoch 1: loss = 1947.710 and score = 0.969\n"
     ]
    },
    {
     "data": {
      "text/plain": "(1, tensor(0.9688))"
     },
     "execution_count": 7,
     "metadata": {},
     "output_type": "execute_result"
    }
   ],
   "source": [
    "training_model(model=nn.Linear(in_features=10, out_features=1, bias=False),\n",
    "               optimizer_fn=DREMOptimizer,\n",
    "               loss_fn=loss_fn,\n",
    "               metric_fn=metric_fn,\n",
    "               data_train=train_dataloader,\n",
    "               data_test=test_dataloader,\n",
    "               learning_rate=0.01,\n",
    "               printed=True, valid_period=5,\n",
    "               with_addition=True, new_optim=True)"
   ],
   "metadata": {
    "collapsed": false
   }
  },
  {
   "cell_type": "markdown",
   "source": [
    "* функции активации\n",
    "* графики сходимости\n",
    "*"
   ],
   "metadata": {
    "collapsed": false
   }
  },
  {
   "cell_type": "code",
   "execution_count": 21,
   "outputs": [
    {
     "name": "stdout",
     "output_type": "stream",
     "text": [
      "epoch 1: loss = 60025.680 and score = -0.005\n",
      "epoch 6: loss = 59977.504 and score = -0.005\n",
      "epoch 11: loss = 59969.402 and score = -0.005\n",
      "epoch 16: loss = 59955.352 and score = -0.004\n",
      "epoch 21: loss = 59932.320 and score = -0.004\n",
      "epoch 26: loss = 59915.000 and score = -0.004\n",
      "epoch 31: loss = 59903.051 and score = -0.004\n",
      "epoch 36: loss = 59886.547 and score = -0.004\n",
      "epoch 41: loss = 59852.574 and score = -0.003\n",
      "epoch 46: loss = 59836.777 and score = -0.003\n",
      "epoch 51: loss = 59643.062 and score = 0.000\n",
      "epoch 56: loss = 59526.016 and score = 0.002\n",
      "epoch 61: loss = 59497.781 and score = 0.003\n",
      "epoch 66: loss = 59453.477 and score = 0.003\n",
      "epoch 71: loss = 59335.809 and score = 0.005\n",
      "epoch 76: loss = 59238.570 and score = 0.007\n",
      "epoch 81: loss = 59097.297 and score = 0.009\n",
      "epoch 86: loss = 58999.344 and score = 0.010\n",
      "epoch 91: loss = 57127.273 and score = 0.038\n",
      "epoch 96: loss = 55889.414 and score = 0.060\n",
      "epoch 101: loss = 54958.523 and score = 0.075\n",
      "epoch 106: loss = 54128.922 and score = 0.088\n",
      "epoch 111: loss = 53660.266 and score = 0.097\n",
      "epoch 116: loss = 52957.746 and score = 0.109\n",
      "epoch 121: loss = 52526.402 and score = 0.117\n",
      "epoch 126: loss = 52107.184 and score = 0.124\n",
      "epoch 131: loss = 50636.195 and score = 0.148\n",
      "epoch 136: loss = 50085.812 and score = 0.157\n",
      "epoch 141: loss = 48892.512 and score = 0.177\n",
      "epoch 146: loss = 48130.590 and score = 0.190\n",
      "epoch 151: loss = 47008.055 and score = 0.209\n",
      "epoch 156: loss = 44659.941 and score = 0.250\n",
      "epoch 161: loss = 41605.414 and score = 0.300\n",
      "epoch 166: loss = 41044.191 and score = 0.309\n",
      "epoch 171: loss = 37865.648 and score = 0.359\n",
      "epoch 176: loss = 36165.676 and score = 0.387\n",
      "epoch 181: loss = 31958.652 and score = 0.459\n",
      "epoch 186: loss = 30317.664 and score = 0.486\n",
      "epoch 191: loss = 27831.777 and score = 0.531\n",
      "epoch 196: loss = 25648.605 and score = 0.568\n",
      "epoch 201: loss = 22213.344 and score = 0.624\n",
      "epoch 206: loss = 17762.984 and score = 0.702\n",
      "epoch 211: loss = 16679.604 and score = 0.720\n",
      "epoch 216: loss = 15355.371 and score = 0.744\n",
      "epoch 221: loss = 13035.892 and score = 0.781\n",
      "epoch 226: loss = 12282.292 and score = 0.794\n",
      "epoch 231: loss = 10343.324 and score = 0.827\n",
      "epoch 236: loss = 6895.509 and score = 0.885\n",
      "epoch 241: loss = 5734.693 and score = 0.903\n",
      "epoch 246: loss = 2866.922 and score = 0.950\n"
     ]
    },
    {
     "data": {
      "text/plain": "(246, tensor(0.9500))"
     },
     "execution_count": 21,
     "metadata": {},
     "output_type": "execute_result"
    }
   ],
   "source": [
    "simple_model = nn.Sequential(\n",
    "    nn.Linear(in_features=10, out_features=15, bias=False),\n",
    "    nn.ReLU(),\n",
    "    nn.Linear(in_features=15, out_features=1, bias=False),\n",
    ")\n",
    "training_model(model=simple_model,\n",
    "               optimizer_fn=DREMOptimizer,\n",
    "               loss_fn=loss_fn,\n",
    "               metric_fn=metric_fn,\n",
    "               data_train=train_dataloader,\n",
    "               data_test=test_dataloader,\n",
    "               learning_rate=1e-10,\n",
    "               printed=True, valid_period=5,\n",
    "               with_addition=True, new_optim=True)"
   ],
   "metadata": {
    "collapsed": false
   }
  }
 ],
 "metadata": {
  "kernelspec": {
   "display_name": "Python 3",
   "language": "python",
   "name": "python3"
  },
  "language_info": {
   "codemirror_mode": {
    "name": "ipython",
    "version": 2
   },
   "file_extension": ".py",
   "mimetype": "text/x-python",
   "name": "python",
   "nbconvert_exporter": "python",
   "pygments_lexer": "ipython2",
   "version": "2.7.6"
  }
 },
 "nbformat": 4,
 "nbformat_minor": 0
}
