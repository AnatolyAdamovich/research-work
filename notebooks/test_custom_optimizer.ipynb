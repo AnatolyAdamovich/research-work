{
 "cells": [
  {
   "cell_type": "markdown",
   "source": [
    "# Цели\n",
    "В этом блокноте протестируем свой optimizer"
   ],
   "metadata": {
    "collapsed": false
   }
  },
  {
   "cell_type": "markdown",
   "source": [],
   "metadata": {
    "collapsed": false
   }
  },
  {
   "cell_type": "markdown",
   "source": [],
   "metadata": {
    "collapsed": false
   }
  },
  {
   "cell_type": "code",
   "execution_count": 1,
   "metadata": {
    "collapsed": true
   },
   "outputs": [
    {
     "data": {
      "text/plain": "<torch._C.Generator at 0x7f538a623d30>"
     },
     "execution_count": 1,
     "metadata": {},
     "output_type": "execute_result"
    }
   ],
   "source": [
    "import torch\n",
    "from torch import nn\n",
    "from torchmetrics import R2Score\n",
    "\n",
    "from sklearn.datasets import make_regression\n",
    "from sklearn.model_selection import train_test_split\n",
    "import matplotlib.pyplot as plt\n",
    "\n",
    "from custom_optim_example import CustomOptimizer\n",
    "\n",
    "torch.random.manual_seed(0)"
   ]
  },
  {
   "cell_type": "code",
   "execution_count": 2,
   "outputs": [],
   "source": [
    "t = torch.rand(size=(16, 20, 30))\n",
    "t = t.reshape(4, 4, *list(t.shape[1:]))\n"
   ],
   "metadata": {
    "collapsed": false
   }
  },
  {
   "cell_type": "code",
   "execution_count": 3,
   "outputs": [],
   "source": [
    "X, y = make_regression(n_samples=100, n_features=10)"
   ],
   "metadata": {
    "collapsed": false
   }
  },
  {
   "cell_type": "code",
   "execution_count": 4,
   "outputs": [
    {
     "data": {
      "text/plain": "(torch.Size([100, 10]), torch.Size([100, 1]))"
     },
     "execution_count": 4,
     "metadata": {},
     "output_type": "execute_result"
    }
   ],
   "source": [
    "X = torch.from_numpy(X).type(torch.float)\n",
    "y = torch.from_numpy(y).type(torch.float).unsqueeze(dim=1)\n",
    "X.shape, y.shape"
   ],
   "metadata": {
    "collapsed": false
   }
  },
  {
   "cell_type": "code",
   "execution_count": 5,
   "outputs": [
    {
     "name": "stdout",
     "output_type": "stream",
     "text": [
      "shape of train set is (torch.Size([80, 10]), torch.Size([80, 1]))\n"
     ]
    }
   ],
   "source": [
    "X_train, X_test, y_train, y_test = train_test_split(X, y, test_size=.2)\n",
    "print(f'shape of train set is {X_train.shape, y_train.shape}')"
   ],
   "metadata": {
    "collapsed": false
   }
  },
  {
   "cell_type": "code",
   "execution_count": 6,
   "outputs": [
    {
     "name": "stdout",
     "output_type": "stream",
     "text": [
      "self.param_groups is [{'params': [Parameter containing:\n",
      "tensor([[ 0.2777,  0.0598, -0.0613,  0.2421,  0.0142, -0.0058,  0.0115, -0.1959,\n",
      "         -0.0928, -0.2852]], requires_grad=True)], 'lr': 0.001}]\n"
     ]
    }
   ],
   "source": [
    "model = nn.Sequential(\n",
    "    nn.Linear(in_features=10, out_features=1, bias=False),\n",
    ")\n",
    "loss_fn = nn.MSELoss()\n",
    "optimizer = torch.optim.SGD(params=model.parameters(),\n",
    "                            lr=1e-3)\n",
    "custom_optimizer = CustomOptimizer(params=model.parameters(),\n",
    "                                   lr=1e-3)\n",
    "score_fn = R2Score()"
   ],
   "metadata": {
    "collapsed": false
   }
  },
  {
   "cell_type": "code",
   "execution_count": 7,
   "outputs": [
    {
     "name": "stdout",
     "output_type": "stream",
     "text": [
      "Patches shape: torch.Size([8, 10, 10])\n",
      "Patches shape: torch.Size([8, 10, 10])\n",
      "Patches shape: torch.Size([8, 10, 10])\n",
      "Patches shape: torch.Size([8, 10, 10])\n",
      "Patches shape: torch.Size([8, 10, 10])\n",
      "Epoch 5/25:  R2Score on test is 1.0\n",
      "Patches shape: torch.Size([8, 10, 10])\n",
      "Patches shape: torch.Size([8, 10, 10])\n",
      "Patches shape: torch.Size([8, 10, 10])\n",
      "Patches shape: torch.Size([8, 10, 10])\n",
      "Patches shape: torch.Size([8, 10, 10])\n",
      "Epoch 10/25:  R2Score on test is 1.0\n",
      "Patches shape: torch.Size([8, 10, 10])\n",
      "Patches shape: torch.Size([8, 10, 10])\n",
      "Patches shape: torch.Size([8, 10, 10])\n",
      "Patches shape: torch.Size([8, 10, 10])\n",
      "Patches shape: torch.Size([8, 10, 10])\n",
      "Epoch 15/25:  R2Score on test is 1.0\n",
      "Patches shape: torch.Size([8, 10, 10])\n",
      "Patches shape: torch.Size([8, 10, 10])\n",
      "Patches shape: torch.Size([8, 10, 10])\n",
      "Patches shape: torch.Size([8, 10, 10])\n",
      "Patches shape: torch.Size([8, 10, 10])\n",
      "Epoch 20/25:  R2Score on test is 1.0\n",
      "Patches shape: torch.Size([8, 10, 10])\n",
      "Patches shape: torch.Size([8, 10, 10])\n",
      "Patches shape: torch.Size([8, 10, 10])\n",
      "Patches shape: torch.Size([8, 10, 10])\n",
      "Patches shape: torch.Size([8, 10, 10])\n",
      "Epoch 25/25:  R2Score on test is 1.0\n"
     ]
    }
   ],
   "source": [
    "EPOCHS = 25\n",
    "for epoch in range(1, EPOCHS+1):\n",
    "    model.train()\n",
    "    predicted = model(X_train)\n",
    "    loss = loss_fn(predicted, y_train)\n",
    "    #custom_optimizer.zero_grad()\n",
    "    #loss.backward()\n",
    "    custom_optimizer.step(X_batch=X_train, y_batch=y_train)\n",
    "\n",
    "    if epoch % 5 == 0:\n",
    "        with torch.inference_mode():\n",
    "            predicted_test = model(X_test)\n",
    "            score = score_fn(predicted_test, y_test)\n",
    "        print(f'Epoch {epoch}/{EPOCHS}:  R2Score on test is {score}')"
   ],
   "metadata": {
    "collapsed": false
   }
  },
  {
   "cell_type": "code",
   "execution_count": 12,
   "outputs": [
    {
     "data": {
      "text/plain": "torch.Size([1, 2, 2])"
     },
     "execution_count": 12,
     "metadata": {},
     "output_type": "execute_result"
    }
   ],
   "source": [
    "torch.mean(torch.stack([torch.rand(size=(2,2)), torch.rand(size=(2, 2))]), dim=0).unsqueeze(dim=0).shape"
   ],
   "metadata": {
    "collapsed": false
   }
  }
 ],
 "metadata": {
  "kernelspec": {
   "display_name": "Python 3",
   "language": "python",
   "name": "python3"
  },
  "language_info": {
   "codemirror_mode": {
    "name": "ipython",
    "version": 2
   },
   "file_extension": ".py",
   "mimetype": "text/x-python",
   "name": "python",
   "nbconvert_exporter": "python",
   "pygments_lexer": "ipython2",
   "version": "2.7.6"
  }
 },
 "nbformat": 4,
 "nbformat_minor": 0
}
