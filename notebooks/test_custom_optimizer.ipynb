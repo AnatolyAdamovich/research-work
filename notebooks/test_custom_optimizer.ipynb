{
 "cells": [
  {
   "cell_type": "markdown",
   "metadata": {
    "collapsed": false
   },
   "source": [
    "# Цели\n",
    "В этом блокноте протестируем свой optimizer"
   ]
  },
  {
   "cell_type": "code",
   "execution_count": 2,
   "metadata": {
    "collapsed": true
   },
   "outputs": [
    {
     "data": {
      "text/plain": [
       "<torch._C.Generator at 0x7f782835db70>"
      ]
     },
     "execution_count": 2,
     "metadata": {},
     "output_type": "execute_result"
    }
   ],
   "source": [
    "import os\n",
    "# change the current working directory\n",
    "os.chdir('..')\n",
    "\n",
    "import torch\n",
    "from torch import nn\n",
    "from torchmetrics import R2Score\n",
    "\n",
    "from sklearn.datasets import make_regression\n",
    "from sklearn.model_selection import train_test_split\n",
    "import matplotlib.pyplot as plt\n",
    "\n",
    "from optimizers import CustomOptimizer\n",
    "\n",
    "torch.random.manual_seed(0)"
   ]
  },
  {
   "cell_type": "code",
   "execution_count": 3,
   "metadata": {
    "collapsed": false
   },
   "outputs": [],
   "source": [
    "t = torch.rand(size=(16, 20, 30))\n",
    "t = t.reshape(4, 4, *list(t.shape[1:]))\n"
   ]
  },
  {
   "cell_type": "code",
   "execution_count": 4,
   "metadata": {
    "collapsed": false
   },
   "outputs": [],
   "source": [
    "X, y = make_regression(n_samples=200, n_features=5)"
   ]
  },
  {
   "cell_type": "code",
   "execution_count": 5,
   "metadata": {
    "collapsed": false
   },
   "outputs": [
    {
     "data": {
      "text/plain": [
       "(torch.Size([200, 5]), torch.Size([200, 1]))"
      ]
     },
     "execution_count": 5,
     "metadata": {},
     "output_type": "execute_result"
    }
   ],
   "source": [
    "X = torch.from_numpy(X).type(torch.float)\n",
    "y = torch.from_numpy(y).type(torch.float).unsqueeze(dim=1)\n",
    "X.shape, y.shape"
   ]
  },
  {
   "cell_type": "code",
   "execution_count": 6,
   "metadata": {
    "collapsed": false
   },
   "outputs": [
    {
     "name": "stdout",
     "output_type": "stream",
     "text": [
      "shape of train set is (torch.Size([160, 5]), torch.Size([160, 1]))\n"
     ]
    }
   ],
   "source": [
    "X_train, X_test, y_train, y_test = train_test_split(X, y, test_size=.2)\n",
    "print(f'shape of train set is {X_train.shape, y_train.shape}')"
   ]
  },
  {
   "cell_type": "code",
   "execution_count": 8,
   "metadata": {
    "collapsed": false
   },
   "outputs": [
    {
     "name": "stdout",
     "output_type": "stream",
     "text": [
      "self.param_groups is [{'params': [Parameter containing:\n",
      "tensor([[ 0.0681, -0.0008,  0.1583, -0.2790, -0.0030]], requires_grad=True)], 'lr': 0.001}]\n"
     ]
    }
   ],
   "source": [
    "model = nn.Sequential(\n",
    "    nn.Linear(in_features=5, out_features=1, bias=False),\n",
    ")\n",
    "loss_fn = nn.MSELoss()\n",
    "optimizer = torch.optim.SGD(params=model.parameters(),\n",
    "                            lr=1e-3)\n",
    "custom_optimizer = CustomOptimizer(params=model.parameters(),\n",
    "                                   lr=1e-3)\n",
    "score_fn = R2Score()"
   ]
  },
  {
   "cell_type": "code",
   "execution_count": 9,
   "metadata": {
    "collapsed": false
   },
   "outputs": [
    {
     "name": "stdout",
     "output_type": "stream",
     "text": [
      "Patches shape: torch.Size([32, 5, 5])\n",
      "Patches shape: torch.Size([32, 5, 5])\n",
      "Patches shape: torch.Size([32, 5, 5])\n",
      "Patches shape: torch.Size([32, 5, 5])\n",
      "Patches shape: torch.Size([32, 5, 5])\n",
      "Epoch 5/25:  R2Score on test is 0.3721669912338257\n",
      "Patches shape: torch.Size([32, 5, 5])\n",
      "Patches shape: torch.Size([32, 5, 5])\n",
      "Patches shape: torch.Size([32, 5, 5])\n",
      "Patches shape: torch.Size([32, 5, 5])\n",
      "Patches shape: torch.Size([32, 5, 5])\n",
      "Epoch 10/25:  R2Score on test is 0.61414635181427\n",
      "Patches shape: torch.Size([32, 5, 5])\n",
      "Patches shape: torch.Size([32, 5, 5])\n",
      "Patches shape: torch.Size([32, 5, 5])\n",
      "Patches shape: torch.Size([32, 5, 5])\n",
      "Patches shape: torch.Size([32, 5, 5])\n",
      "Epoch 15/25:  R2Score on test is 0.7628620266914368\n",
      "Patches shape: torch.Size([32, 5, 5])\n",
      "Patches shape: torch.Size([32, 5, 5])\n",
      "Patches shape: torch.Size([32, 5, 5])\n",
      "Patches shape: torch.Size([32, 5, 5])\n",
      "Patches shape: torch.Size([32, 5, 5])\n",
      "Epoch 20/25:  R2Score on test is 0.854259729385376\n",
      "Patches shape: torch.Size([32, 5, 5])\n",
      "Patches shape: torch.Size([32, 5, 5])\n",
      "Patches shape: torch.Size([32, 5, 5])\n",
      "Patches shape: torch.Size([32, 5, 5])\n",
      "Patches shape: torch.Size([32, 5, 5])\n",
      "Epoch 25/25:  R2Score on test is 0.910430908203125\n"
     ]
    }
   ],
   "source": [
    "EPOCHS = 25\n",
    "for epoch in range(1, EPOCHS+1):\n",
    "    model.train()\n",
    "    #predicted = model(X_train)\n",
    "    #loss = loss_fn(predicted, y_train)\n",
    "    #custom_optimizer.zero_grad()\n",
    "    #optimizer.zero_grad()\n",
    "    #loss.backward()\n",
    "    custom_optimizer.step(X_batch=X_train.detach().clone(), y_batch=y_train)\n",
    "    #optimizer.step()\n",
    "\n",
    "    if epoch % 5 == 0:\n",
    "        with torch.inference_mode():\n",
    "            predicted_test = model(X_test)\n",
    "            score = score_fn(predicted_test, y_test)\n",
    "        print(f'Epoch {epoch}/{EPOCHS}:  R2Score on test is {score}')"
   ]
  }
 ],
 "metadata": {
  "kernelspec": {
   "display_name": "Python 3",
   "language": "python",
   "name": "python3"
  },
  "language_info": {
   "codemirror_mode": {
    "name": "ipython",
    "version": 3
   },
   "file_extension": ".py",
   "mimetype": "text/x-python",
   "name": "python",
   "nbconvert_exporter": "python",
   "pygments_lexer": "ipython3",
   "version": "3.10.10"
  }
 },
 "nbformat": 4,
 "nbformat_minor": 0
}
