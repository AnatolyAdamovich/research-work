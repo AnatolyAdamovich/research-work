{
 "cells": [
  {
   "cell_type": "markdown",
   "source": [
    "# Цели\n",
    "В этом блокноте протестируем свой optimizer"
   ],
   "metadata": {
    "collapsed": false
   }
  },
  {
   "cell_type": "code",
   "execution_count": 1,
   "metadata": {
    "collapsed": true
   },
   "outputs": [
    {
     "data": {
      "text/plain": "<torch._C.Generator at 0x7f8e83823d30>"
     },
     "execution_count": 1,
     "metadata": {},
     "output_type": "execute_result"
    }
   ],
   "source": [
    "import torch\n",
    "from torch import nn\n",
    "from torchmetrics import R2Score\n",
    "\n",
    "from sklearn.datasets import make_regression\n",
    "from sklearn.model_selection import train_test_split\n",
    "import matplotlib.pyplot as plt\n",
    "\n",
    "from custom_optim_example import CustomOptimizer\n",
    "\n",
    "torch.random.manual_seed(0)"
   ]
  },
  {
   "cell_type": "code",
   "execution_count": 2,
   "outputs": [],
   "source": [
    "t = torch.rand(size=(16, 20, 30))\n",
    "t = t.reshape(4, 4, *list(t.shape[1:]))\n"
   ],
   "metadata": {
    "collapsed": false
   }
  },
  {
   "cell_type": "code",
   "execution_count": 3,
   "outputs": [],
   "source": [
    "X, y = make_regression(n_samples=200, n_features=5)"
   ],
   "metadata": {
    "collapsed": false
   }
  },
  {
   "cell_type": "code",
   "execution_count": 4,
   "outputs": [
    {
     "data": {
      "text/plain": "(torch.Size([200, 5]), torch.Size([200, 1]))"
     },
     "execution_count": 4,
     "metadata": {},
     "output_type": "execute_result"
    }
   ],
   "source": [
    "X = torch.from_numpy(X).type(torch.float)\n",
    "y = torch.from_numpy(y).type(torch.float).unsqueeze(dim=1)\n",
    "X.shape, y.shape"
   ],
   "metadata": {
    "collapsed": false
   }
  },
  {
   "cell_type": "code",
   "execution_count": 5,
   "outputs": [
    {
     "name": "stdout",
     "output_type": "stream",
     "text": [
      "shape of train set is (torch.Size([160, 5]), torch.Size([160, 1]))\n"
     ]
    }
   ],
   "source": [
    "X_train, X_test, y_train, y_test = train_test_split(X, y, test_size=.2)\n",
    "print(f'shape of train set is {X_train.shape, y_train.shape}')"
   ],
   "metadata": {
    "collapsed": false
   }
  },
  {
   "cell_type": "code",
   "execution_count": 20,
   "outputs": [
    {
     "name": "stdout",
     "output_type": "stream",
     "text": [
      "self.param_groups is [{'params': [Parameter containing:\n",
      "tensor([[-0.3407, -0.3205,  0.3210,  0.0094, -0.3635],\n",
      "        [ 0.1546, -0.0145, -0.2653,  0.3918,  0.2597]], requires_grad=True), Parameter containing:\n",
      "tensor([[ 0.5987, -0.1152]], requires_grad=True)], 'lr': 0.001}]\n"
     ]
    }
   ],
   "source": [
    "model = nn.Sequential(\n",
    "    nn.Linear(in_features=5, out_features=2, bias=False),\n",
    "    nn.Linear(in_features=2, out_features=1, bias=False),\n",
    ")\n",
    "loss_fn = nn.MSELoss()\n",
    "optimizer = torch.optim.SGD(params=model.parameters(),\n",
    "                            lr=1e-3)\n",
    "custom_optimizer = CustomOptimizer(params=model.parameters(),\n",
    "                                   lr=1e-3)\n",
    "score_fn = R2Score()"
   ],
   "metadata": {
    "collapsed": false
   }
  },
  {
   "cell_type": "code",
   "execution_count": 21,
   "outputs": [
    {
     "name": "stdout",
     "output_type": "stream",
     "text": [
      "Patches shape: torch.Size([32, 5, 5])\n",
      "Patches shape: torch.Size([80, 2, 2])\n",
      "Patches shape: torch.Size([32, 5, 5])\n",
      "Patches shape: torch.Size([80, 2, 2])\n",
      "Patches shape: torch.Size([32, 5, 5])\n",
      "Patches shape: torch.Size([80, 2, 2])\n",
      "Patches shape: torch.Size([32, 5, 5])\n",
      "Patches shape: torch.Size([80, 2, 2])\n",
      "Patches shape: torch.Size([32, 5, 5])\n",
      "Patches shape: torch.Size([80, 2, 2])\n",
      "Epoch 5/25:  R2Score on test is 0.7790050506591797\n",
      "Patches shape: torch.Size([32, 5, 5])\n",
      "Patches shape: torch.Size([80, 2, 2])\n",
      "Patches shape: torch.Size([32, 5, 5])\n",
      "Patches shape: torch.Size([80, 2, 2])\n",
      "Patches shape: torch.Size([32, 5, 5])\n",
      "Patches shape: torch.Size([80, 2, 2])\n",
      "Patches shape: torch.Size([32, 5, 5])\n",
      "Patches shape: torch.Size([80, 2, 2])\n",
      "Patches shape: torch.Size([32, 5, 5])\n",
      "Patches shape: torch.Size([80, 2, 2])\n",
      "Epoch 10/25:  R2Score on test is 0.7112603187561035\n",
      "Patches shape: torch.Size([32, 5, 5])\n",
      "Patches shape: torch.Size([80, 2, 2])\n",
      "Patches shape: torch.Size([32, 5, 5])\n",
      "Patches shape: torch.Size([80, 2, 2])\n",
      "Patches shape: torch.Size([32, 5, 5])\n",
      "Patches shape: torch.Size([80, 2, 2])\n",
      "Patches shape: torch.Size([32, 5, 5])\n",
      "Patches shape: torch.Size([80, 2, 2])\n",
      "Patches shape: torch.Size([32, 5, 5])\n",
      "Patches shape: torch.Size([80, 2, 2])\n",
      "Epoch 15/25:  R2Score on test is 0.7198109030723572\n",
      "Patches shape: torch.Size([32, 5, 5])\n",
      "Patches shape: torch.Size([80, 2, 2])\n",
      "Patches shape: torch.Size([32, 5, 5])\n",
      "Patches shape: torch.Size([80, 2, 2])\n",
      "Patches shape: torch.Size([32, 5, 5])\n",
      "Patches shape: torch.Size([80, 2, 2])\n",
      "Patches shape: torch.Size([32, 5, 5])\n",
      "Patches shape: torch.Size([80, 2, 2])\n",
      "Patches shape: torch.Size([32, 5, 5])\n",
      "Patches shape: torch.Size([80, 2, 2])\n",
      "Epoch 20/25:  R2Score on test is 0.7300078868865967\n",
      "Patches shape: torch.Size([32, 5, 5])\n",
      "Patches shape: torch.Size([80, 2, 2])\n",
      "Patches shape: torch.Size([32, 5, 5])\n",
      "Patches shape: torch.Size([80, 2, 2])\n",
      "Patches shape: torch.Size([32, 5, 5])\n",
      "Patches shape: torch.Size([80, 2, 2])\n",
      "Patches shape: torch.Size([32, 5, 5])\n",
      "Patches shape: torch.Size([80, 2, 2])\n",
      "Patches shape: torch.Size([32, 5, 5])\n",
      "Patches shape: torch.Size([80, 2, 2])\n",
      "Epoch 25/25:  R2Score on test is 0.7344704866409302\n"
     ]
    }
   ],
   "source": [
    "EPOCHS = 25\n",
    "for epoch in range(1, EPOCHS+1):\n",
    "    model.train()\n",
    "    #predicted = model(X_train)\n",
    "    #loss = loss_fn(predicted, y_train)\n",
    "    #custom_optimizer.zero_grad()\n",
    "    #optimizer.zero_grad()\n",
    "    #loss.backward()\n",
    "    custom_optimizer.step(X_batch=X_train.detach().clone(), y_batch=y_train)\n",
    "    #optimizer.step()\n",
    "\n",
    "    if epoch % 5 == 0:\n",
    "        with torch.inference_mode():\n",
    "            predicted_test = model(X_test)\n",
    "            score = score_fn(predicted_test, y_test)\n",
    "        print(f'Epoch {epoch}/{EPOCHS}:  R2Score on test is {score}')"
   ],
   "metadata": {
    "collapsed": false
   }
  },
  {
   "cell_type": "code",
   "execution_count": 12,
   "outputs": [
    {
     "data": {
      "text/plain": "torch.Size([1, 2, 2])"
     },
     "execution_count": 12,
     "metadata": {},
     "output_type": "execute_result"
    }
   ],
   "source": [
    "torch.mean(torch.stack([torch.rand(size=(2,2)), torch.rand(size=(2, 2))]), dim=0).unsqueeze(dim=0).shape"
   ],
   "metadata": {
    "collapsed": false
   }
  }
 ],
 "metadata": {
  "kernelspec": {
   "display_name": "Python 3",
   "language": "python",
   "name": "python3"
  },
  "language_info": {
   "codemirror_mode": {
    "name": "ipython",
    "version": 2
   },
   "file_extension": ".py",
   "mimetype": "text/x-python",
   "name": "python",
   "nbconvert_exporter": "python",
   "pygments_lexer": "ipython2",
   "version": "2.7.6"
  }
 },
 "nbformat": 4,
 "nbformat_minor": 0
}
