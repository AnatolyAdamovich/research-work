{
 "cells": [
  {
   "cell_type": "code",
   "execution_count": 1,
   "metadata": {},
   "outputs": [],
   "source": [
    "import os\n",
    "# change the current working directory\n",
    "os.chdir('..')\n",
    "\n",
    "# main\n",
    "import torch\n",
    "from torch import nn\n",
    "from torch.utils.data import DataLoader\n",
    "from torchmetrics import R2Score\n",
    "\n",
    "# implementation\n",
    "from tools import make_regression_data, RegressionDataset, finite_time_opt_training, drem_opt_training, \\\n",
    "                  standard_training, plot_results\n",
    "from optimizers import FiniteTimeOptimizer, DREMOptimizer\n",
    "from torch.optim import Adam, SGD\n",
    "\n",
    "# graphics\n",
    "import matplotlib.pyplot as plt"
   ]
  },
  {
   "cell_type": "markdown",
   "metadata": {},
   "source": [
    "# Data"
   ]
  },
  {
   "cell_type": "code",
   "execution_count": 2,
   "metadata": {},
   "outputs": [
    {
     "name": "stdout",
     "output_type": "stream",
     "text": [
      "shape of train: (torch.Size([800, 10]), torch.Size([800, 1]))\n",
      "shape of test: (torch.Size([200, 10]), torch.Size([200, 1]))\n",
      "example of train sample:\n",
      " (tensor([-0.7738,  0.7570, -1.7787, -1.2447,  0.8696, -0.9222,  1.4960,  1.3556,\n",
      "         1.8768,  0.4134]), tensor([11.9213]))\n",
      "shape of batch: features - torch.Size([10, 10]) and labels - torch.Size([10, 1])\n"
     ]
    }
   ],
   "source": [
    "NUMBER_OF_FEATURES = 10\n",
    "X_train, X_test, y_train, y_test = make_regression_data(number_samples=1000,\n",
    "                                                        number_features=NUMBER_OF_FEATURES,\n",
    "                                                        noise_value=10.5)\n",
    "\n",
    "print(f'shape of train: {X_train.shape, y_train.shape}\\nshape of test: {X_test.shape, y_test.shape}')\n",
    "\n",
    "train_dataset = RegressionDataset(features=X_train,\n",
    "                                  labels=y_train)\n",
    "test_dataset = RegressionDataset(features=X_test,\n",
    "                                 labels=y_test)\n",
    "print(f'example of train sample:\\n {train_dataset[19]}')\n",
    "\n",
    "\n",
    "BATCH_SIZE = 10\n",
    "train_dataloader = DataLoader(dataset=train_dataset,\n",
    "                              shuffle=True,\n",
    "                              batch_size=BATCH_SIZE)\n",
    "test_dataloader = DataLoader(dataset=test_dataset,\n",
    "                             batch_size=BATCH_SIZE)\n",
    "batch_example_features, batch_example_labels  = next(iter(train_dataloader))\n",
    "print('shape of batch: features - {} and labels - {}'.format(batch_example_features.shape, batch_example_labels.shape))"
   ]
  },
  {
   "cell_type": "markdown",
   "metadata": {},
   "source": [
    "# Model"
   ]
  },
  {
   "cell_type": "code",
   "execution_count": 3,
   "metadata": {},
   "outputs": [],
   "source": [
    "model = nn.Sequential(nn.Linear(in_features=10, out_features=5, bias=False),\n",
    "                      nn.ReLU(),\n",
    "                      nn.Linear(in_features=5, out_features=1, bias=False))"
   ]
  },
  {
   "cell_type": "markdown",
   "metadata": {},
   "source": [
    "# Hyperparameters"
   ]
  },
  {
   "cell_type": "code",
   "execution_count": 4,
   "metadata": {},
   "outputs": [],
   "source": [
    "loss_fn = nn.MSELoss()\n",
    "\n",
    "metric_fn = R2Score()\n",
    "\n",
    "# we will apply finite-time estimation each 2 batches\n",
    "N_OF_BATCHES = 2\n",
    "optimizer = FiniteTimeOptimizer(params=model.parameters(),\n",
    "                                lr=0.001,\n",
    "                                n_of_batches=N_OF_BATCHES)"
   ]
  },
  {
   "cell_type": "markdown",
   "metadata": {},
   "source": [
    "# Train"
   ]
  },
  {
   "cell_type": "code",
   "execution_count": 5,
   "metadata": {},
   "outputs": [
    {
     "name": "stdout",
     "output_type": "stream",
     "text": [
      "epoch 1: loss = nan and score = nan\n"
     ]
    }
   ],
   "source": [
    "n_epochs, loss_train, loss_test, score_test = finite_time_opt_training(model=model,\n",
    "                                                                       optimizer_fn=optimizer,\n",
    "                                                                       loss_fn=loss_fn,\n",
    "                                                                       metric_fn=metric_fn,\n",
    "                                                                       data_train=train_dataloader,\n",
    "                                                                       data_test=test_dataloader,\n",
    "                                                                       min_score=0.95,\n",
    "                                                                       printed=True)"
   ]
  },
  {
   "cell_type": "code",
   "execution_count": null,
   "metadata": {},
   "outputs": [],
   "source": [
    "optimizer = Adam(params=model.parameters(), lr=0.001)\n",
    "\n",
    "n"
   ]
  }
 ],
 "metadata": {
  "kernelspec": {
   "display_name": "Python 3 (ipykernel)",
   "language": "python",
   "name": "python3"
  },
  "language_info": {
   "codemirror_mode": {
    "name": "ipython",
    "version": 3
   },
   "file_extension": ".py",
   "mimetype": "text/x-python",
   "name": "python",
   "nbconvert_exporter": "python",
   "pygments_lexer": "ipython3",
   "version": "3.10.10"
  },
  "vscode": {
   "interpreter": {
    "hash": "00bf0cc086401fde42af5a57c3f53565faedcceab4d35fc872220fbc879e5cfc"
   }
  }
 },
 "nbformat": 4,
 "nbformat_minor": 2
}
